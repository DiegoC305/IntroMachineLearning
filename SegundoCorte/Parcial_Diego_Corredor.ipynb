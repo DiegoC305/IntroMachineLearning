{
  "nbformat": 4,
  "nbformat_minor": 0,
  "metadata": {
    "colab": {
      "provenance": []
    },
    "kernelspec": {
      "name": "python3",
      "display_name": "Python 3"
    },
    "language_info": {
      "name": "python"
    }
  },
  "cells": [
    {
      "cell_type": "markdown",
      "source": [
        "#**PARCIAL SEGUNDO CORTE**#"
      ],
      "metadata": {
        "id": "mcd0gbc2sJIQ"
      }
    },
    {
      "cell_type": "code",
      "execution_count": 1,
      "metadata": {
        "colab": {
          "base_uri": "https://localhost:8080/"
        },
        "id": "8dEuOk2BnWWP",
        "outputId": "94096a54-5c6a-42f7-9230-84062aa09943"
      },
      "outputs": [
        {
          "output_type": "stream",
          "name": "stdout",
          "text": [
            "--2025-05-01 09:24:58--  https://raw.githubusercontent.com/javierherrera1996/IntroMachineLearning/refs/heads/main/SegundoCorte/loan_approval_dataset.csv\n",
            "Resolving raw.githubusercontent.com (raw.githubusercontent.com)... 185.199.111.133, 185.199.108.133, 185.199.110.133, ...\n",
            "Connecting to raw.githubusercontent.com (raw.githubusercontent.com)|185.199.111.133|:443... connected.\n",
            "HTTP request sent, awaiting response... 200 OK\n",
            "Length: 384337 (375K) [text/plain]\n",
            "Saving to: ‘loan_approval_dataset.csv’\n",
            "\n",
            "loan_approval_datas 100%[===================>] 375.33K  --.-KB/s    in 0.05s   \n",
            "\n",
            "2025-05-01 09:24:59 (8.08 MB/s) - ‘loan_approval_dataset.csv’ saved [384337/384337]\n",
            "\n"
          ]
        }
      ],
      "source": [
        "!wget https://raw.githubusercontent.com/javierherrera1996/IntroMachineLearning/refs/heads/main/SegundoCorte/loan_approval_dataset.csv"
      ]
    },
    {
      "cell_type": "markdown",
      "source": [
        "#INTRODUCCIÓN#"
      ],
      "metadata": {
        "id": "qYj49lVqn7UO"
      }
    },
    {
      "cell_type": "markdown",
      "source": [
        "En este taller, trabajaremos con un conjunto de datos relacionado con la aprobaciÓn de préstamos. El objetivo es aplicar técnicas de anélisis de datos y Machine Learning para entender cómo los distintos factores influyen en la decisión de aprobación o rechazo del préstamo.\n",
        "El conjunto de datos contiene las siguientes columnas:\n"
      ],
      "metadata": {
        "id": "ltrexMd7n-Ji"
      }
    },
    {
      "cell_type": "markdown",
      "source": [
        "• loan id: Identificador único del préstamo\n",
        "\n",
        "• no of dependents: Número de dependientes del solicitante\n",
        "\n",
        "• education: Nivel educativo del solicitante (Graduate o Not Graduate)\n",
        "\n",
        "• self employed: Si el solicitante es autoempleado (Yes o No)\n",
        "\n",
        "• income annum: Ingreso anual del solicitante en unidades monetarias\n",
        "\n",
        "• loan amount: Monto solicitado para el préstamo\n",
        "\n",
        "• loan term: Duración del préstamo en años\n",
        "\n",
        "• cibil score: Puntaje CIBIL del solicitante\n",
        "\n",
        "• residential assets value: Valor de los activos residenciales del solicitante\n",
        "\n",
        "• commercial assets value: Valor de los activos comerciales del solicitante\n",
        "\n",
        "• luxury assets value: Valor de los activos de lujo del solicitante\n",
        "\n",
        "• bank asset value: Valor de los activos bancarios del solicitante\n",
        "\n",
        "• loan status: Estado del préstamo (Aprobado o Rechazado)\n"
      ],
      "metadata": {
        "id": "p2ZoWTafoN96"
      }
    },
    {
      "cell_type": "markdown",
      "source": [
        "#2 Preguntas Teóricas#\n"
      ],
      "metadata": {
        "id": "mP8lDaWDouaz"
      }
    },
    {
      "cell_type": "markdown",
      "source": [
        "Responde las siguientes preguntas relacionadas con los conceptos de análisis de datos, estadísticas y Machine Learning.\n"
      ],
      "metadata": {
        "id": "5zsMkqWEoyr7"
      }
    },
    {
      "cell_type": "markdown",
      "source": [
        "#2.1 Pregunta 1: Análisis Exploratorio de Datos (EDA)\n"
      ],
      "metadata": {
        "id": "qlEWNLYyo4Jk"
      }
    },
    {
      "cell_type": "markdown",
      "source": [
        "¿Qué pasos seguirías para realizar un análisis exploratorio de los datos antes de construir un modelo de\n",
        "Machine Learning? Explica cada paso y menciona las herramientas que utilizarías."
      ],
      "metadata": {
        "id": "tRbdPFQqpEoj"
      }
    },
    {
      "cell_type": "markdown",
      "source": [
        "Inspección Inicial: Cargar datos (pd.read_csv, df.head, df.info).\n",
        "Limpieza y Faltantes: Identificar y manejar valores nulos (df.isnull().sum, df.dropna, df.fillna, missingno).\n",
        "Estadística Descriptiva: Resúmenes numéricos y categóricos (df.describe, df.value_counts).\n",
        "Visualización: Patrones, tendencias, anomalías (matplotlib, seaborn).\n",
        "Univariado: Distribución de cada variable (histogramas, boxplots, barras).\n",
        "Bivariado/Multivariado: Relaciones entre variables (scatter plots, box plots agrupados, mapas de calor).\n",
        "Outliers: Identificar y decidir tratamiento (boxplots, scatter plots).\n",
        "Variable Objetivo: Analizar su distribución y relación con predictores.\n",
        "Documentación: Registrar hallazgos (Jupyter Notebook)."
      ],
      "metadata": {
        "id": "BN-h0CpMsZ-K"
      }
    },
    {
      "cell_type": "markdown",
      "source": [
        "#2.2 Pregunta 2: Preprocesamiento de Datos"
      ],
      "metadata": {
        "id": "DiMdWJzKpJaj"
      }
    },
    {
      "cell_type": "markdown",
      "source": [
        "Imagina que uno de los datos contiene valores faltantes o atípicos (outliers). ¿Qué técnicas utilizarías para tratar con estos problemas en el conjunto de datos de la tabla? Justifica tu respuesta."
      ],
      "metadata": {
        "id": "rFTAUsS2pOut"
      }
    },
    {
      "cell_type": "markdown",
      "source": [
        "Identificar: isnull().sum(), visualizaciones (missingno).\n",
        "Tratar:\n",
        "Eliminar: Si muchos faltan en columna o pocas filas afectadas.\n",
        "Imputar: Media/mediana (numéricos), moda (categóricos), modelos (avanzado), indicador (si la falta informa).\n",
        "Outliers:\n",
        "\n",
        "Identificar: Box plots, scatter plots, histogramas, IQR, desviación estándar.\n",
        "Tratar:\n",
        "Eliminar: Si son errores claros (con cuidado).\n",
        "Transformar: Log, raíz cuadrada, potencia (para normalizar).\n",
        "Escalar robusto: Menos sensible a outliers.\n",
        "Discretizar: Agrupar en categorías.\n",
        "Mantener: Si son eventos raros importantes."
      ],
      "metadata": {
        "id": "7h1vyB0Asad9"
      }
    },
    {
      "cell_type": "markdown",
      "source": [
        "#2.3 Pregunta 3: Modelos de Clasificación"
      ],
      "metadata": {
        "id": "3mMBPoEFpWWT"
      }
    },
    {
      "cell_type": "markdown",
      "source": [
        "En este caso, el objetivo es predecir si un préstamo sería aprobado o rechazado en función de las características del solicitante. ¿Qué tipo de modelo de clasificación usarías y por qué? Discute las ventajas y\n",
        "desventajas de este modelo."
      ],
      "metadata": {
        "id": "cH27sjcJpZah"
      }
    },
    {
      "cell_type": "markdown",
      "source": [
        "Modelo Inicial: Regresión Logística\n",
        "\n",
        "Por qué: Probabilístico, interpretable (coeficientes), eficiente, buen punto de partida.\n",
        "\n",
        "Pros: Fácil, predice probabilidad, interpretable (algo), rápido.\n",
        "\n",
        "Contras: Asume linealidad, sensible a outliers, interacciones manuales, puede fallar sin separación lineal.\n",
        "\n",
        "Alternativas (si es necesario): Árboles/Bosques (no lineal), Boosting (potente), SVM (no lineal), Redes (complejas).\n",
        "\n",
        "Enfoque: Regresión Logística primero, evaluar, luego considerar alternativas si el rendimiento lo requiere."
      ],
      "metadata": {
        "id": "W4napqq1sa6x"
      }
    },
    {
      "cell_type": "markdown",
      "source": [
        "#2.4 Pregunta 4: Desbalanceo de Clases"
      ],
      "metadata": {
        "id": "LN77YvE1piu0"
      }
    },
    {
      "cell_type": "markdown",
      "source": [
        "¿Qué es el desbalanceo de clases y por qué es un problema al entrenar un modelo de clasificación? ¿Qué técnicas utilizarías para abordar este problema, como SMOTE?\n"
      ],
      "metadata": {
        "id": "catueFlFplOB"
      }
    },
    {
      "cell_type": "markdown",
      "source": [
        "Desbalanceo de Clases: Una clase con muchos menos ejemplos.\n",
        "\n",
        "Problema: Modelo sesgado a la clase mayoritaria, precisión engañosa, mal aprendizaje de la clase minoritaria.\n",
        "\n",
        "Soluciones:\n",
        "\n",
        "Remuestreo:\n",
        "SMOTE: Crea ejemplos sintéticos de la clase minoritaria.\n",
        "Submuestreo: Reduce la clase mayoritaria.\n",
        "Algoritmos Sensibles: Dan más peso a la clase minoritaria.\n",
        "Métricas: Usar Precision, Recall, F1-Score, AUC.\n",
        "SMOTE: Genera nuevos datos minoritarios entre ejemplos similares.\n",
        "\n",
        "Pros de SMOTE: Menos sobreajuste que duplicar, mejor aprendizaje de la clase minoritaria.\n",
        "\n",
        "Contras de SMOTE: Puede crear ruido, ignora la clase mayoritaria, limitado en alta dimensión."
      ],
      "metadata": {
        "id": "nhNLBwU4sbSA"
      }
    },
    {
      "cell_type": "markdown",
      "source": [
        "# 2.5 Pregunta 5: Overfitting"
      ],
      "metadata": {
        "id": "xT5DFZYnp1Uz"
      }
    },
    {
      "cell_type": "markdown",
      "source": [
        "¿Qué es el overfitting y cómo puedes detectarlo en un modelo de Machine Learning? Explica qué medidas tomarías para evitar el sobreajuste y mejorar la capacidad de generalización de tu modelo.\n"
      ],
      "metadata": {
        "id": "HeUJiXLpp4Tu"
      }
    },
    {
      "cell_type": "markdown",
      "source": [
        "Detectar:\n",
        "\n",
        "Rendimiento alto en entrenamiento, bajo en validación/prueba.\n",
        "Curvas de aprendizaje divergentes.\n",
        "\n",
        "Evitar:\n",
        "\n",
        "Más datos.\n",
        "Modelo simple.\n",
        "Regularización (L1, L2).\n",
        "Selección de características.\n",
        "Early stopping.\n",
        "Dropout/Batch Norm (redes).\n",
        "Aumento de datos."
      ],
      "metadata": {
        "id": "s_whvFi2sbyb"
      }
    },
    {
      "cell_type": "markdown",
      "source": [
        "#3 Ejercicios Prácticos#"
      ],
      "metadata": {
        "id": "KVYMg2ZCp_7h"
      }
    },
    {
      "cell_type": "markdown",
      "source": [
        "#3.1 Ejercicio 1: Análisis Descriptivo"
      ],
      "metadata": {
        "id": "yQbuF0xXqDvU"
      }
    },
    {
      "cell_type": "markdown",
      "source": [
        "Usa la tabla de datos proporcionada para realizar un análisis descriptivo de las variables numéricas.\n",
        "Responde a las siguientes preguntas:\n",
        "\n",
        "• ¿Cuál es el promedio de los ingresos anuales (income annum) de los solicitantes?\n",
        "\n",
        "• ¿Cuál es el puntaje CIBIL promedio de los solicitantes cuyo préstamo fue aprobado?\n",
        "\n",
        "• ¿Cuál es la duración promedio de los préstamos (loan term)?\n"
      ],
      "metadata": {
        "id": "K-wSyWykqItA"
      }
    },
    {
      "cell_type": "code",
      "source": [
        "import pandas as pd\n",
        "\n",
        "df = pd.read_csv  ('loan_approval_dataset.csv')\n",
        "df.head()\n",
        "\n",
        "df = pd.read_csv(\"loan_approval_dataset.csv\")\n",
        "\n",
        "promedio_ingresos = df[' income_annum'].mean()\n",
        "print(\"El promedio de ingresos anuales es:\", promedio_ingresos)"
      ],
      "metadata": {
        "colab": {
          "base_uri": "https://localhost:8080/"
        },
        "id": "KBQtxbfmu6Jc",
        "outputId": "38f78d76-b226-4292-a65e-185e1f05c50c"
      },
      "execution_count": 2,
      "outputs": [
        {
          "output_type": "stream",
          "name": "stdout",
          "text": [
            "El promedio de ingresos anuales es: 5059123.9166081045\n"
          ]
        }
      ]
    },
    {
      "cell_type": "code",
      "source": [
        "puntaje_cibil_promedio_aprobados = df[df[' loan_status'] == 'Approved'][' cibil_score'].mean()\n",
        "print(\"El puntaje CIBIL promedio de los solicitantes cuyo préstamo fue aprobado es:\", puntaje_cibil_promedio_aprobados)"
      ],
      "metadata": {
        "colab": {
          "base_uri": "https://localhost:8080/"
        },
        "id": "98KjG6cH06Oq",
        "outputId": "1a3b2b7f-f655-4e23-d924-60a60764752b"
      },
      "execution_count": 3,
      "outputs": [
        {
          "output_type": "stream",
          "name": "stdout",
          "text": [
            "El puntaje CIBIL promedio de los solicitantes cuyo préstamo fue aprobado es: nan\n"
          ]
        }
      ]
    },
    {
      "cell_type": "code",
      "source": [
        "duracion_promedio_prestamos = df[' loan_term'].mean()\n",
        "print(\"La duración promedio de los préstamos es:\", duracion_promedio_prestamos)"
      ],
      "metadata": {
        "colab": {
          "base_uri": "https://localhost:8080/"
        },
        "id": "500_Gt_y1IGF",
        "outputId": "51e0e31e-5e11-467e-8b0a-7945dd66a3ae"
      },
      "execution_count": 4,
      "outputs": [
        {
          "output_type": "stream",
          "name": "stdout",
          "text": [
            "La duración promedio de los préstamos es: 10.900445069102835\n"
          ]
        }
      ]
    },
    {
      "cell_type": "markdown",
      "source": [
        "#3.2 Ejercicio 2: Preprocesamiento de Datos"
      ],
      "metadata": {
        "id": "FPkTjsDqqS-x"
      }
    },
    {
      "cell_type": "markdown",
      "source": [
        "Realiza los siguientes pasos de preprocesamiento:\n",
        "\n",
        "• Convierte la variable education en una variable binaria (0: Not Graduate, 1: Graduate).\n",
        "\n",
        "• Convierte la variable self employed en una variable binaria (0: No, 1: Yes).\n",
        "\n",
        "• Rellena los valores faltantes, si los hubiera, con la media de la columna correspondiente."
      ],
      "metadata": {
        "id": "lDZJeFu0qWqj"
      }
    },
    {
      "cell_type": "code",
      "source": [
        "df[' education'] = df[' education'].map({' Not Graduate': 0, ' Graduate': 1})"
      ],
      "metadata": {
        "id": "66m5vSduqqot"
      },
      "execution_count": 5,
      "outputs": []
    },
    {
      "cell_type": "code",
      "source": [
        "df[' self_employed'] = df[' self_employed'].map({' No': 0, ' Yes': 1})"
      ],
      "metadata": {
        "id": "Gvq0_O641isN"
      },
      "execution_count": 6,
      "outputs": []
    },
    {
      "cell_type": "code",
      "source": [
        "for col in df.select_dtypes(include=['number']):\n",
        "  df[col] = df[col].fillna(df[col].mean())"
      ],
      "metadata": {
        "id": "-RB3VnZs1i9d"
      },
      "execution_count": 7,
      "outputs": []
    },
    {
      "cell_type": "markdown",
      "source": [
        "#3.3 Ejercicio 3: Análisis de Correlación"
      ],
      "metadata": {
        "id": "MNdM5e0dqcSs"
      }
    },
    {
      "cell_type": "markdown",
      "source": [
        "Realiza un análisis de correlación entre las siguientes variables:\n",
        "\n",
        "• income annum y loan amount\n",
        "\n",
        "• cibil score y loan amount\n",
        "\n",
        "• residential assets value y commercial assets value\n",
        "\n",
        "Discute los resultados obtenidos, ¿existen correlaciones fuertes entre algunas variables? ¿Cómo afectaría esto a un modelo predictivo?"
      ],
      "metadata": {
        "id": "gISdB2QdqgrR"
      }
    },
    {
      "cell_type": "code",
      "source": [
        "correlation_matrix = df[[' income_annum', ' loan_amount', ' cibil_score', ' residential_assets_value', ' commercial_assets_value']].corr()\n",
        "correlation_matrix"
      ],
      "metadata": {
        "colab": {
          "base_uri": "https://localhost:8080/",
          "height": 206
        },
        "id": "YlcUl1zW1vPB",
        "outputId": "a2afc7ac-c8fb-465f-be11-a85745044f21"
      },
      "execution_count": 8,
      "outputs": [
        {
          "output_type": "execute_result",
          "data": {
            "text/plain": [
              "                          income_annum  loan_amount  cibil_score  \\\n",
              "income_annum                  1.000000     0.927470    -0.023034   \n",
              "loan_amount                   0.927470     1.000000    -0.017035   \n",
              "cibil_score                  -0.023034    -0.017035     1.000000   \n",
              "residential_assets_value      0.636841     0.594596    -0.019947   \n",
              "commercial_assets_value       0.640328     0.603188    -0.003769   \n",
              "\n",
              "                          residential_assets_value  commercial_assets_value  \n",
              "income_annum                              0.636841                 0.640328  \n",
              "loan_amount                               0.594596                 0.603188  \n",
              "cibil_score                              -0.019947                -0.003769  \n",
              "residential_assets_value                  1.000000                 0.414786  \n",
              "commercial_assets_value                   0.414786                 1.000000  "
            ],
            "text/html": [
              "\n",
              "  <div id=\"df-7e306a79-2b5b-4d6e-bf61-f1073a9ae185\" class=\"colab-df-container\">\n",
              "    <div>\n",
              "<style scoped>\n",
              "    .dataframe tbody tr th:only-of-type {\n",
              "        vertical-align: middle;\n",
              "    }\n",
              "\n",
              "    .dataframe tbody tr th {\n",
              "        vertical-align: top;\n",
              "    }\n",
              "\n",
              "    .dataframe thead th {\n",
              "        text-align: right;\n",
              "    }\n",
              "</style>\n",
              "<table border=\"1\" class=\"dataframe\">\n",
              "  <thead>\n",
              "    <tr style=\"text-align: right;\">\n",
              "      <th></th>\n",
              "      <th>income_annum</th>\n",
              "      <th>loan_amount</th>\n",
              "      <th>cibil_score</th>\n",
              "      <th>residential_assets_value</th>\n",
              "      <th>commercial_assets_value</th>\n",
              "    </tr>\n",
              "  </thead>\n",
              "  <tbody>\n",
              "    <tr>\n",
              "      <th>income_annum</th>\n",
              "      <td>1.000000</td>\n",
              "      <td>0.927470</td>\n",
              "      <td>-0.023034</td>\n",
              "      <td>0.636841</td>\n",
              "      <td>0.640328</td>\n",
              "    </tr>\n",
              "    <tr>\n",
              "      <th>loan_amount</th>\n",
              "      <td>0.927470</td>\n",
              "      <td>1.000000</td>\n",
              "      <td>-0.017035</td>\n",
              "      <td>0.594596</td>\n",
              "      <td>0.603188</td>\n",
              "    </tr>\n",
              "    <tr>\n",
              "      <th>cibil_score</th>\n",
              "      <td>-0.023034</td>\n",
              "      <td>-0.017035</td>\n",
              "      <td>1.000000</td>\n",
              "      <td>-0.019947</td>\n",
              "      <td>-0.003769</td>\n",
              "    </tr>\n",
              "    <tr>\n",
              "      <th>residential_assets_value</th>\n",
              "      <td>0.636841</td>\n",
              "      <td>0.594596</td>\n",
              "      <td>-0.019947</td>\n",
              "      <td>1.000000</td>\n",
              "      <td>0.414786</td>\n",
              "    </tr>\n",
              "    <tr>\n",
              "      <th>commercial_assets_value</th>\n",
              "      <td>0.640328</td>\n",
              "      <td>0.603188</td>\n",
              "      <td>-0.003769</td>\n",
              "      <td>0.414786</td>\n",
              "      <td>1.000000</td>\n",
              "    </tr>\n",
              "  </tbody>\n",
              "</table>\n",
              "</div>\n",
              "    <div class=\"colab-df-buttons\">\n",
              "\n",
              "  <div class=\"colab-df-container\">\n",
              "    <button class=\"colab-df-convert\" onclick=\"convertToInteractive('df-7e306a79-2b5b-4d6e-bf61-f1073a9ae185')\"\n",
              "            title=\"Convert this dataframe to an interactive table.\"\n",
              "            style=\"display:none;\">\n",
              "\n",
              "  <svg xmlns=\"http://www.w3.org/2000/svg\" height=\"24px\" viewBox=\"0 -960 960 960\">\n",
              "    <path d=\"M120-120v-720h720v720H120Zm60-500h600v-160H180v160Zm220 220h160v-160H400v160Zm0 220h160v-160H400v160ZM180-400h160v-160H180v160Zm440 0h160v-160H620v160ZM180-180h160v-160H180v160Zm440 0h160v-160H620v160Z\"/>\n",
              "  </svg>\n",
              "    </button>\n",
              "\n",
              "  <style>\n",
              "    .colab-df-container {\n",
              "      display:flex;\n",
              "      gap: 12px;\n",
              "    }\n",
              "\n",
              "    .colab-df-convert {\n",
              "      background-color: #E8F0FE;\n",
              "      border: none;\n",
              "      border-radius: 50%;\n",
              "      cursor: pointer;\n",
              "      display: none;\n",
              "      fill: #1967D2;\n",
              "      height: 32px;\n",
              "      padding: 0 0 0 0;\n",
              "      width: 32px;\n",
              "    }\n",
              "\n",
              "    .colab-df-convert:hover {\n",
              "      background-color: #E2EBFA;\n",
              "      box-shadow: 0px 1px 2px rgba(60, 64, 67, 0.3), 0px 1px 3px 1px rgba(60, 64, 67, 0.15);\n",
              "      fill: #174EA6;\n",
              "    }\n",
              "\n",
              "    .colab-df-buttons div {\n",
              "      margin-bottom: 4px;\n",
              "    }\n",
              "\n",
              "    [theme=dark] .colab-df-convert {\n",
              "      background-color: #3B4455;\n",
              "      fill: #D2E3FC;\n",
              "    }\n",
              "\n",
              "    [theme=dark] .colab-df-convert:hover {\n",
              "      background-color: #434B5C;\n",
              "      box-shadow: 0px 1px 3px 1px rgba(0, 0, 0, 0.15);\n",
              "      filter: drop-shadow(0px 1px 2px rgba(0, 0, 0, 0.3));\n",
              "      fill: #FFFFFF;\n",
              "    }\n",
              "  </style>\n",
              "\n",
              "    <script>\n",
              "      const buttonEl =\n",
              "        document.querySelector('#df-7e306a79-2b5b-4d6e-bf61-f1073a9ae185 button.colab-df-convert');\n",
              "      buttonEl.style.display =\n",
              "        google.colab.kernel.accessAllowed ? 'block' : 'none';\n",
              "\n",
              "      async function convertToInteractive(key) {\n",
              "        const element = document.querySelector('#df-7e306a79-2b5b-4d6e-bf61-f1073a9ae185');\n",
              "        const dataTable =\n",
              "          await google.colab.kernel.invokeFunction('convertToInteractive',\n",
              "                                                    [key], {});\n",
              "        if (!dataTable) return;\n",
              "\n",
              "        const docLinkHtml = 'Like what you see? Visit the ' +\n",
              "          '<a target=\"_blank\" href=https://colab.research.google.com/notebooks/data_table.ipynb>data table notebook</a>'\n",
              "          + ' to learn more about interactive tables.';\n",
              "        element.innerHTML = '';\n",
              "        dataTable['output_type'] = 'display_data';\n",
              "        await google.colab.output.renderOutput(dataTable, element);\n",
              "        const docLink = document.createElement('div');\n",
              "        docLink.innerHTML = docLinkHtml;\n",
              "        element.appendChild(docLink);\n",
              "      }\n",
              "    </script>\n",
              "  </div>\n",
              "\n",
              "\n",
              "    <div id=\"df-38a6ada1-7d26-4d14-80ca-8e2b3235e184\">\n",
              "      <button class=\"colab-df-quickchart\" onclick=\"quickchart('df-38a6ada1-7d26-4d14-80ca-8e2b3235e184')\"\n",
              "                title=\"Suggest charts\"\n",
              "                style=\"display:none;\">\n",
              "\n",
              "<svg xmlns=\"http://www.w3.org/2000/svg\" height=\"24px\"viewBox=\"0 0 24 24\"\n",
              "     width=\"24px\">\n",
              "    <g>\n",
              "        <path d=\"M19 3H5c-1.1 0-2 .9-2 2v14c0 1.1.9 2 2 2h14c1.1 0 2-.9 2-2V5c0-1.1-.9-2-2-2zM9 17H7v-7h2v7zm4 0h-2V7h2v10zm4 0h-2v-4h2v4z\"/>\n",
              "    </g>\n",
              "</svg>\n",
              "      </button>\n",
              "\n",
              "<style>\n",
              "  .colab-df-quickchart {\n",
              "      --bg-color: #E8F0FE;\n",
              "      --fill-color: #1967D2;\n",
              "      --hover-bg-color: #E2EBFA;\n",
              "      --hover-fill-color: #174EA6;\n",
              "      --disabled-fill-color: #AAA;\n",
              "      --disabled-bg-color: #DDD;\n",
              "  }\n",
              "\n",
              "  [theme=dark] .colab-df-quickchart {\n",
              "      --bg-color: #3B4455;\n",
              "      --fill-color: #D2E3FC;\n",
              "      --hover-bg-color: #434B5C;\n",
              "      --hover-fill-color: #FFFFFF;\n",
              "      --disabled-bg-color: #3B4455;\n",
              "      --disabled-fill-color: #666;\n",
              "  }\n",
              "\n",
              "  .colab-df-quickchart {\n",
              "    background-color: var(--bg-color);\n",
              "    border: none;\n",
              "    border-radius: 50%;\n",
              "    cursor: pointer;\n",
              "    display: none;\n",
              "    fill: var(--fill-color);\n",
              "    height: 32px;\n",
              "    padding: 0;\n",
              "    width: 32px;\n",
              "  }\n",
              "\n",
              "  .colab-df-quickchart:hover {\n",
              "    background-color: var(--hover-bg-color);\n",
              "    box-shadow: 0 1px 2px rgba(60, 64, 67, 0.3), 0 1px 3px 1px rgba(60, 64, 67, 0.15);\n",
              "    fill: var(--button-hover-fill-color);\n",
              "  }\n",
              "\n",
              "  .colab-df-quickchart-complete:disabled,\n",
              "  .colab-df-quickchart-complete:disabled:hover {\n",
              "    background-color: var(--disabled-bg-color);\n",
              "    fill: var(--disabled-fill-color);\n",
              "    box-shadow: none;\n",
              "  }\n",
              "\n",
              "  .colab-df-spinner {\n",
              "    border: 2px solid var(--fill-color);\n",
              "    border-color: transparent;\n",
              "    border-bottom-color: var(--fill-color);\n",
              "    animation:\n",
              "      spin 1s steps(1) infinite;\n",
              "  }\n",
              "\n",
              "  @keyframes spin {\n",
              "    0% {\n",
              "      border-color: transparent;\n",
              "      border-bottom-color: var(--fill-color);\n",
              "      border-left-color: var(--fill-color);\n",
              "    }\n",
              "    20% {\n",
              "      border-color: transparent;\n",
              "      border-left-color: var(--fill-color);\n",
              "      border-top-color: var(--fill-color);\n",
              "    }\n",
              "    30% {\n",
              "      border-color: transparent;\n",
              "      border-left-color: var(--fill-color);\n",
              "      border-top-color: var(--fill-color);\n",
              "      border-right-color: var(--fill-color);\n",
              "    }\n",
              "    40% {\n",
              "      border-color: transparent;\n",
              "      border-right-color: var(--fill-color);\n",
              "      border-top-color: var(--fill-color);\n",
              "    }\n",
              "    60% {\n",
              "      border-color: transparent;\n",
              "      border-right-color: var(--fill-color);\n",
              "    }\n",
              "    80% {\n",
              "      border-color: transparent;\n",
              "      border-right-color: var(--fill-color);\n",
              "      border-bottom-color: var(--fill-color);\n",
              "    }\n",
              "    90% {\n",
              "      border-color: transparent;\n",
              "      border-bottom-color: var(--fill-color);\n",
              "    }\n",
              "  }\n",
              "</style>\n",
              "\n",
              "      <script>\n",
              "        async function quickchart(key) {\n",
              "          const quickchartButtonEl =\n",
              "            document.querySelector('#' + key + ' button');\n",
              "          quickchartButtonEl.disabled = true;  // To prevent multiple clicks.\n",
              "          quickchartButtonEl.classList.add('colab-df-spinner');\n",
              "          try {\n",
              "            const charts = await google.colab.kernel.invokeFunction(\n",
              "                'suggestCharts', [key], {});\n",
              "          } catch (error) {\n",
              "            console.error('Error during call to suggestCharts:', error);\n",
              "          }\n",
              "          quickchartButtonEl.classList.remove('colab-df-spinner');\n",
              "          quickchartButtonEl.classList.add('colab-df-quickchart-complete');\n",
              "        }\n",
              "        (() => {\n",
              "          let quickchartButtonEl =\n",
              "            document.querySelector('#df-38a6ada1-7d26-4d14-80ca-8e2b3235e184 button');\n",
              "          quickchartButtonEl.style.display =\n",
              "            google.colab.kernel.accessAllowed ? 'block' : 'none';\n",
              "        })();\n",
              "      </script>\n",
              "    </div>\n",
              "\n",
              "  <div id=\"id_fed17749-94c5-48f9-9616-fffb51b460f0\">\n",
              "    <style>\n",
              "      .colab-df-generate {\n",
              "        background-color: #E8F0FE;\n",
              "        border: none;\n",
              "        border-radius: 50%;\n",
              "        cursor: pointer;\n",
              "        display: none;\n",
              "        fill: #1967D2;\n",
              "        height: 32px;\n",
              "        padding: 0 0 0 0;\n",
              "        width: 32px;\n",
              "      }\n",
              "\n",
              "      .colab-df-generate:hover {\n",
              "        background-color: #E2EBFA;\n",
              "        box-shadow: 0px 1px 2px rgba(60, 64, 67, 0.3), 0px 1px 3px 1px rgba(60, 64, 67, 0.15);\n",
              "        fill: #174EA6;\n",
              "      }\n",
              "\n",
              "      [theme=dark] .colab-df-generate {\n",
              "        background-color: #3B4455;\n",
              "        fill: #D2E3FC;\n",
              "      }\n",
              "\n",
              "      [theme=dark] .colab-df-generate:hover {\n",
              "        background-color: #434B5C;\n",
              "        box-shadow: 0px 1px 3px 1px rgba(0, 0, 0, 0.15);\n",
              "        filter: drop-shadow(0px 1px 2px rgba(0, 0, 0, 0.3));\n",
              "        fill: #FFFFFF;\n",
              "      }\n",
              "    </style>\n",
              "    <button class=\"colab-df-generate\" onclick=\"generateWithVariable('correlation_matrix')\"\n",
              "            title=\"Generate code using this dataframe.\"\n",
              "            style=\"display:none;\">\n",
              "\n",
              "  <svg xmlns=\"http://www.w3.org/2000/svg\" height=\"24px\"viewBox=\"0 0 24 24\"\n",
              "       width=\"24px\">\n",
              "    <path d=\"M7,19H8.4L18.45,9,17,7.55,7,17.6ZM5,21V16.75L18.45,3.32a2,2,0,0,1,2.83,0l1.4,1.43a1.91,1.91,0,0,1,.58,1.4,1.91,1.91,0,0,1-.58,1.4L9.25,21ZM18.45,9,17,7.55Zm-12,3A5.31,5.31,0,0,0,4.9,8.1,5.31,5.31,0,0,0,1,6.5,5.31,5.31,0,0,0,4.9,4.9,5.31,5.31,0,0,0,6.5,1,5.31,5.31,0,0,0,8.1,4.9,5.31,5.31,0,0,0,12,6.5,5.46,5.46,0,0,0,6.5,12Z\"/>\n",
              "  </svg>\n",
              "    </button>\n",
              "    <script>\n",
              "      (() => {\n",
              "      const buttonEl =\n",
              "        document.querySelector('#id_fed17749-94c5-48f9-9616-fffb51b460f0 button.colab-df-generate');\n",
              "      buttonEl.style.display =\n",
              "        google.colab.kernel.accessAllowed ? 'block' : 'none';\n",
              "\n",
              "      buttonEl.onclick = () => {\n",
              "        google.colab.notebook.generateWithVariable('correlation_matrix');\n",
              "      }\n",
              "      })();\n",
              "    </script>\n",
              "  </div>\n",
              "\n",
              "    </div>\n",
              "  </div>\n"
            ],
            "application/vnd.google.colaboratory.intrinsic+json": {
              "type": "dataframe",
              "variable_name": "correlation_matrix",
              "summary": "{\n  \"name\": \"correlation_matrix\",\n  \"rows\": 5,\n  \"fields\": [\n    {\n      \"column\": \" income_annum\",\n      \"properties\": {\n        \"dtype\": \"number\",\n        \"std\": 0.4036694192184383,\n        \"min\": -0.023034421699860187,\n        \"max\": 1.0,\n        \"num_unique_values\": 5,\n        \"samples\": [\n          0.9274699109871475,\n          0.6403276980353092,\n          -0.023034421699860187\n        ],\n        \"semantic_type\": \"\",\n        \"description\": \"\"\n      }\n    },\n    {\n      \"column\": \" loan_amount\",\n      \"properties\": {\n        \"dtype\": \"number\",\n        \"std\": 0.4017665908987935,\n        \"min\": -0.017034787023534396,\n        \"max\": 1.0,\n        \"num_unique_values\": 5,\n        \"samples\": [\n          1.0,\n          0.6031880881949118,\n          -0.017034787023534396\n        ],\n        \"semantic_type\": \"\",\n        \"description\": \"\"\n      }\n    },\n    {\n      \"column\": \" cibil_score\",\n      \"properties\": {\n        \"dtype\": \"number\",\n        \"std\": 0.4544043521374216,\n        \"min\": -0.023034421699860187,\n        \"max\": 1.0,\n        \"num_unique_values\": 5,\n        \"samples\": [\n          -0.017034787023534396,\n          -0.0037693455213522018,\n          1.0\n        ],\n        \"semantic_type\": \"\",\n        \"description\": \"\"\n      }\n    },\n    {\n      \"column\": \" residential_assets_value\",\n      \"properties\": {\n        \"dtype\": \"number\",\n        \"std\": 0.37151407723700597,\n        \"min\": -0.019946757051831965,\n        \"max\": 1.0,\n        \"num_unique_values\": 5,\n        \"samples\": [\n          0.5945957096943747,\n          0.4147860265754977,\n          -0.019946757051831965\n        ],\n        \"semantic_type\": \"\",\n        \"description\": \"\"\n      }\n    },\n    {\n      \"column\": \" commercial_assets_value\",\n      \"properties\": {\n        \"dtype\": \"number\",\n        \"std\": 0.366267853641981,\n        \"min\": -0.0037693455213522018,\n        \"max\": 1.0,\n        \"num_unique_values\": 5,\n        \"samples\": [\n          0.6031880881949118,\n          1.0,\n          -0.0037693455213522018\n        ],\n        \"semantic_type\": \"\",\n        \"description\": \"\"\n      }\n    }\n  ]\n}"
            }
          },
          "metadata": {},
          "execution_count": 8
        }
      ]
    },
    {
      "cell_type": "markdown",
      "source": [
        "El análisis de correlación muestra fuertes vínculos entre income_annum y loan_amount, moderados entre cibil_score y loan_amount, y débiles entre residential_assets_value y commercial_assets_value. Para mejorar el modelo predictivo, se sugiere eliminar variables redundantes, aplicar técnicas de regularización y evaluar la causalidad de las correlaciones."
      ],
      "metadata": {
        "id": "BsPvkWKd2S0T"
      }
    },
    {
      "cell_type": "markdown",
      "source": [
        "#3.4 Ejercicio 4: Comparación de Modelos de Clasificación"
      ],
      "metadata": {
        "id": "vbQhfHhdqoyQ"
      }
    },
    {
      "cell_type": "markdown",
      "source": [
        "Usando la tabla de datos, entrena dos modelos de clasificación: Regresión Logística y Arbol de decisión para predecir el estado del préstamo (loan status). Compara los modelos utilizando la métrica ROC AUC. Para esto, sigue los pasos:\n",
        "\n",
        "• Preprocesa los datos (conversión de variables categóricas, manejo de valores faltantes).\n",
        "\n",
        "• Divide los datos en un conjunto de entrenamiento y uno de prueba.\n",
        "\n",
        "• Entrena los modelos de Regresión Logística y Arbol de Decisión.\n",
        "\n",
        "• Hay alguna evidencia de overfitting si/no.\n",
        "\n",
        "• Calcula la métrica ROC AUC para cada modelo y compáralos.\n",
        "\n",
        "• Si detectas desbalanceo de clases, aplica SMOTE para equilibrar el dataset antes de entrenar los modelos.\n",
        "\n",
        "Discute los resultados obtenidos. ¿Cuál modelo es el más adecuado para este problema? ¿Por qué?"
      ],
      "metadata": {
        "id": "ou57SfsTqxhg"
      }
    },
    {
      "cell_type": "code",
      "source": [
        "from sklearn.model_selection import train_test_split\n",
        "from sklearn.linear_model import LogisticRegression\n",
        "from sklearn.tree import DecisionTreeClassifier\n",
        "from sklearn.metrics import roc_auc_score\n",
        "from imblearn.over_sampling import SMOTE\n",
        "import pandas as pd\n",
        "\n",
        "X = df.drop(' loan_status', axis=1)\n",
        "y = df[' loan_status']\n",
        "\n",
        "smote = SMOTE(random_state=42)\n",
        "X_resampled, y_resampled = smote.fit_resample(X, y)\n",
        "\n",
        "X_train, X_test, y_train, y_test = train_test_split(X_resampled, y_resampled, test_size=0.2, random_state=42)\n",
        "\n",
        "logreg_model = LogisticRegression(max_iter=1000)\n",
        "logreg_model.fit(X_train, y_train)\n",
        "logreg_pred = logreg_model.predict_proba(X_test)[:, 1]\n",
        "logreg_roc_auc = roc_auc_score(y_test, logreg_pred)\n",
        "print(f\"Logistic Regression ROC AUC: {logreg_roc_auc}\")\n",
        "\n",
        "dt_model = DecisionTreeClassifier(random_state=42)\n",
        "dt_model.fit(X_train, y_train)\n",
        "dt_pred = dt_model.predict_proba(X_test)[:, 1]\n",
        "dt_roc_auc = roc_auc_score(y_test, dt_pred)\n",
        "print(f\"Decision Tree ROC AUC: {dt_roc_auc}\")\n",
        "\n",
        "print(f\"Decision Tree Depth: {dt_model.get_depth()}\")\n",
        "\n",
        "print(\"Model Comparison:\")\n",
        "if logreg_roc_auc > dt_roc_auc:\n",
        "    print(\"Logistic Regression performs better based on ROC AUC.\")\n",
        "else:\n",
        "    print(\"Decision Tree performs better based on ROC AUC.\")"
      ],
      "metadata": {
        "colab": {
          "base_uri": "https://localhost:8080/"
        },
        "id": "B5eVCeOu4oCK",
        "outputId": "f532bb7d-fa63-461e-c5b4-4334d5960376"
      },
      "execution_count": 9,
      "outputs": [
        {
          "output_type": "stream",
          "name": "stdout",
          "text": [
            "Logistic Regression ROC AUC: 0.8869371000845103\n",
            "Decision Tree ROC AUC: 0.975779591083083\n",
            "Decision Tree Depth: 15\n",
            "Model Comparison:\n",
            "Decision Tree performs better based on ROC AUC.\n"
          ]
        }
      ]
    },
    {
      "cell_type": "markdown",
      "source": [
        "#3.5 Ejercicio 5: Evaluación del Desempeño del Modelo"
      ],
      "metadata": {
        "id": "oP_jX1lKrITo"
      }
    },
    {
      "cell_type": "markdown",
      "source": [
        "Después de entrenar los modelos, evalúa su desempeño usando métricas adicionales como precisión, recall,F1 y la matriz de confusión. Responde las siguientes preguntas:\n",
        "\n",
        "• ¿Qué modelo tiene el mejor desempeño general? Justifica tu respuesta utilizando las métricas.\n",
        "\n",
        "• ¿Cómo impacta el desbalanceo de clases en la métrica ROC AUC y en otras métricas?\n",
        "\n",
        "• ¿Qué acciones tomarías si el modelo tiene un alto sesgo hacia la clase mayoritaria?\n"
      ],
      "metadata": {
        "id": "TFr6VcjprM--"
      }
    },
    {
      "cell_type": "code",
      "source": [
        "from sklearn.metrics import classification_report, confusion_matrix\n",
        "\n",
        "logreg_pred_class = logreg_model.predict(X_test)\n",
        "dt_pred_class = dt_model.predict(X_test)\n",
        "\n",
        "print(\"Logistic Regression Classification Report:\")\n",
        "print(classification_report(y_test, logreg_pred_class))\n",
        "print(\"Logistic Regression Confusion Matrix:\")\n",
        "print(confusion_matrix(y_test, logreg_pred_class))\n",
        "\n",
        "print(\"\\nDecision Tree Classification Report:\")\n",
        "print(classification_report(y_test, dt_pred_class))\n",
        "print(\"Decision Tree Confusion Matrix:\")\n",
        "print(confusion_matrix(y_test, dt_pred_class))\n",
        "\n",
        "\n",
        "print(\"\\nModel Comparison based on additional metrics:\")\n",
        "print(\"\\nImpact of Class Imbalance:\")\n",
        "print(\"\\nActions for High Bias towards Majority Class:\")"
      ],
      "metadata": {
        "colab": {
          "base_uri": "https://localhost:8080/"
        },
        "id": "p5e4TwTu8zOK",
        "outputId": "47d92b55-76f3-4b5a-db21-6cfe59f68df7"
      },
      "execution_count": 10,
      "outputs": [
        {
          "output_type": "stream",
          "name": "stdout",
          "text": [
            "Logistic Regression Classification Report:\n",
            "              precision    recall  f1-score   support\n",
            "\n",
            "    Approved       0.74      0.87      0.80       502\n",
            "    Rejected       0.86      0.73      0.79       561\n",
            "\n",
            "    accuracy                           0.80      1063\n",
            "   macro avg       0.80      0.80      0.80      1063\n",
            "weighted avg       0.81      0.80      0.80      1063\n",
            "\n",
            "Logistic Regression Confusion Matrix:\n",
            "[[437  65]\n",
            " [151 410]]\n",
            "\n",
            "Decision Tree Classification Report:\n",
            "              precision    recall  f1-score   support\n",
            "\n",
            "    Approved       0.97      0.98      0.97       502\n",
            "    Rejected       0.98      0.97      0.98       561\n",
            "\n",
            "    accuracy                           0.98      1063\n",
            "   macro avg       0.98      0.98      0.98      1063\n",
            "weighted avg       0.98      0.98      0.98      1063\n",
            "\n",
            "Decision Tree Confusion Matrix:\n",
            "[[492  10]\n",
            " [ 16 545]]\n",
            "\n",
            "Model Comparison based on additional metrics:\n",
            "\n",
            "Impact of Class Imbalance:\n",
            "\n",
            "Actions for High Bias towards Majority Class:\n"
          ]
        }
      ]
    },
    {
      "cell_type": "markdown",
      "source": [
        "#4 Reflexión Crítica#"
      ],
      "metadata": {
        "id": "yiUSMPwQrdgk"
      }
    },
    {
      "cell_type": "markdown",
      "source": [
        "Después de completar los ejercicios, reflexiona sobre los siguientes puntos:\n",
        "\n",
        "• ¿Qué desafíos enfrentaste al trabajar con los datos proporcionados?\n",
        "\n",
        "• ¿Qué mejorarías en el proceso de preprocesamiento de datos?\n",
        "\n",
        "• Si pudieras recolectar mías datos, ¿qué variables adicionales serían útiles para mejorar el modelo de clasificación?\n",
        "\n",
        "• ¿Cómo asegurarías que el modelo generalice bien y no esté sobreajustado?\n",
        "\n",
        "• ¿Qué impacto tuvo el desbalanceo de clases en la precisión de tu modelo ¿Cómo se resolvió con SMOTE?\n",
        "\n",
        "• ¿Cómo detectarías y manejarías el overfitting en un modelo de Machine Learning? ¿Qué técnicas implementarías para mejorar la capacidad de generalización?\n"
      ],
      "metadata": {
        "id": "__goKkDqrlEJ"
      }
    },
    {
      "cell_type": "markdown",
      "source": [
        "Calidad, formato, desbalanceo, dimensionalidad y valores atípicos.\n",
        "\n",
        "Automatización, análisis exploratorio de datos profundo, ingeniería y selección avanzada de características, así como un manejo robusto de datos faltantes y outliers.\n",
        "\n",
        "Depende del problema: características demográficas, comportamentales, contextuales, temporales, derivadas y externas pertinentes.\n",
        "\n",
        "Segmentación de datos (entrenamiento/validación/prueba), validación cruzada, regularización, selección de características, detención temprana, modelos simples y aumento de datos.\n",
        "\n",
        "La precisión puede ser engañosa. SMOTE produce muestras sintéticas de la clase minoritaria para lograr un equilibrio.\n",
        "\n",
        "Detectar: bajo rendimiento en validación/prueba en comparación con entrenamiento, curvas de aprendizaje que divergen.\n",
        "\n",
        "Manejar/Mejorar: segmentación de datos, validación cruzada, regularización, reducción de complejidad, selección de características, detención temprana, aumento de datos y técnicas de dropout (en redes neuronales)."
      ],
      "metadata": {
        "id": "0X09UYH0sGQY"
      }
    }
  ]
}